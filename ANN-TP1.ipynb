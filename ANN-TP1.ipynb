{
 "cells": [
  {
   "cell_type": "code",
   "execution_count": 13,
   "id": "a1181381",
   "metadata": {},
   "outputs": [],
   "source": [
    "\n",
    "from tensorflow.keras.datasets import mnist\n"
   ]
  },
  {
   "cell_type": "code",
   "execution_count": 14,
   "id": "35f25422",
   "metadata": {},
   "outputs": [],
   "source": [
    "(X_train,y_train),(X_test,y_test)= mnist.load_data()"
   ]
  },
  {
   "cell_type": "code",
   "execution_count": 15,
   "id": "642c5b65",
   "metadata": {},
   "outputs": [],
   "source": [
    "import matplotlib.pyplot as plt"
   ]
  },
  {
   "cell_type": "code",
   "execution_count": 16,
   "id": "64c56ff4",
   "metadata": {},
   "outputs": [
    {
     "data": {
      "image/png": "[encoded data removed]",
      "text/plain": [
       "<Figure size 640x480 with 1 Axes>"
      ]
     },
     "metadata": {},
     "output_type": "display_data"
    }
   ],
   "source": [
    "plt.imshow(X_train[1].reshape(28,28),cmap='gray')\n",
    "plt.axis('off')\n",
    "plt.show()"
   ]
  },
  {
   "cell_type": "markdown",
   "id": "f9eb2bf7",
   "metadata": {},
   "source": [
    "Normalisation des donneés pour rendre les valeurs d'image plus petit "
   ]
  },
  {
   "cell_type": "code",
   "execution_count": 17,
   "id": "1b514fd3",
   "metadata": {},
   "outputs": [],
   "source": [
    "X_train = X_train / 255.0\n",
    "X_test = X_test / 255.0"
   ]
  },
  {
   "cell_type": "markdown",
   "id": "e7535701",
   "metadata": {},
   "source": [
    "Redimensionnement des images "
   ]
  },
  {
   "cell_type": "code",
   "execution_count": 18,
   "id": "4074202b",
   "metadata": {},
   "outputs": [],
   "source": [
    "X_train = X_train.reshape((X_train.shape[0],-1))\n",
    "X_test = X_test.reshape((X_test.shape[0],-1))\n"
   ]
  },
  {
   "cell_type": "markdown",
   "id": "24e97fee",
   "metadata": {},
   "source": [
    "# Implementation de modele ANN \n"
   ]
  },
  {
   "cell_type": "code",
   "execution_count": 19,
   "id": "841d0540",
   "metadata": {},
   "outputs": [],
   "source": [
    "# Redimensionnement des images pour le MPLclassifier\n",
    "X_train_flat = X_train.reshape((X_train.shape[0],-1))\n",
    "X_test_flat = X_test.reshape((X_test.shape[0],-1))\n",
    "\n"
   ]
  },
  {
   "cell_type": "code",
   "execution_count": 20,
   "id": "4dbdfc71",
   "metadata": {},
   "outputs": [],
   "source": [
    "# Creation d'un modele MLP classifier\n",
    "from sklearn.neural_network import MLPClassifier\n",
    "\n",
    "mlp_classifier = MLPClassifier() "
   ]
  },
  {
   "cell_type": "code",
   "execution_count": 22,
   "id": "833f8891",
   "metadata": {},
   "outputs": [
    {
     "name": "stdout",
     "output_type": "stream",
     "text": [
      "Fitting 3 folds for each of 24 candidates, totalling 72 fits\n"
     ]
    },
    {
     "name": "stderr",
     "output_type": "stream",
     "text": [
      "/home/yassine-hammi/.local/lib/python3.12/site-packages/sklearn/neural_network/_multilayer_perceptron.py:691: ConvergenceWarning: Stochastic Optimizer: Maximum iterations (10) reached and the optimization hasn't converged yet.\n",
      "  warnings.warn(\n"
     ]
    },
    {
     "name": "stdout",
     "output_type": "stream",
     "text": [
      "[CV] END activation=relu, hidden_layer_sizes=(64,), max_iter=10; total time=   5.0s\n"
     ]
    },
    {
     "name": "stderr",
     "output_type": "stream",
     "text": [
      "/home/yassine-hammi/.local/lib/python3.12/site-packages/sklearn/neural_network/_multilayer_perceptron.py:691: ConvergenceWarning: Stochastic Optimizer: Maximum iterations (10) reached and the optimization hasn't converged yet.\n",
      "  warnings.warn(\n"
     ]
    },
    {
     "name": "stdout",
     "output_type": "stream",
     "text": [
      "[CV] END activation=relu, hidden_layer_sizes=(64,), max_iter=10; total time=   4.9s\n"
     ]
    },
    {
     "name": "stderr",
     "output_type": "stream",
     "text": [
      "/home/yassine-hammi/.local/lib/python3.12/site-packages/sklearn/neural_network/_multilayer_perceptron.py:691: ConvergenceWarning: Stochastic Optimizer: Maximum iterations (10) reached and the optimization hasn't converged yet.\n",
      "  warnings.warn(\n"
     ]
    },
    {
     "name": "stdout",
     "output_type": "stream",
     "text": [
      "[CV] END activation=relu, hidden_layer_sizes=(64,), max_iter=10; total time=   4.6s\n"
     ]
    },
    {
     "name": "stderr",
     "output_type": "stream",
     "text": [
      "/home/yassine-hammi/.local/lib/python3.12/site-packages/sklearn/neural_network/_multilayer_perceptron.py:691: ConvergenceWarning: Stochastic Optimizer: Maximum iterations (50) reached and the optimization hasn't converged yet.\n",
      "  warnings.warn(\n"
     ]
    },
    {
     "name": "stdout",
     "output_type": "stream",
     "text": [
      "[CV] END activation=relu, hidden_layer_sizes=(64,), max_iter=50; total time=  24.4s\n"
     ]
    },
    {
     "name": "stderr",
     "output_type": "stream",
     "text": [
      "/home/yassine-hammi/.local/lib/python3.12/site-packages/sklearn/neural_network/_multilayer_perceptron.py:691: ConvergenceWarning: Stochastic Optimizer: Maximum iterations (50) reached and the optimization hasn't converged yet.\n",
      "  warnings.warn(\n"
     ]
    },
    {
     "name": "stdout",
     "output_type": "stream",
     "text": [
      "[CV] END activation=relu, hidden_layer_sizes=(64,), max_iter=50; total time=  38.8s\n"
     ]
    },
    {
     "name": "stderr",
     "output_type": "stream",
     "text": [
      "/home/yassine-hammi/.local/lib/python3.12/site-packages/sklearn/neural_network/_multilayer_perceptron.py:691: ConvergenceWarning: Stochastic Optimizer: Maximum iterations (50) reached and the optimization hasn't converged yet.\n",
      "  warnings.warn(\n"
     ]
    },
    {
     "name": "stdout",
     "output_type": "stream",
     "text": [
      "[CV] END activation=relu, hidden_layer_sizes=(64,), max_iter=50; total time=  52.4s\n",
      "[CV] END activation=relu, hidden_layer_sizes=(64,), max_iter=100; total time= 1.0min\n",
      "[CV] END activation=relu, hidden_layer_sizes=(64,), max_iter=100; total time=  52.7s\n",
      "[CV] END activation=relu, hidden_layer_sizes=(64,), max_iter=100; total time=  49.5s\n"
     ]
    },
    {
     "name": "stderr",
     "output_type": "stream",
     "text": [
      "/home/yassine-hammi/.local/lib/python3.12/site-packages/sklearn/neural_network/_multilayer_perceptron.py:691: ConvergenceWarning: Stochastic Optimizer: Maximum iterations (10) reached and the optimization hasn't converged yet.\n",
      "  warnings.warn(\n"
     ]
    },
    {
     "name": "stdout",
     "output_type": "stream",
     "text": [
      "[CV] END activation=relu, hidden_layer_sizes=(128,), max_iter=10; total time=   8.8s\n"
     ]
    },
    {
     "name": "stderr",
     "output_type": "stream",
     "text": [
      "/home/yassine-hammi/.local/lib/python3.12/site-packages/sklearn/neural_network/_multilayer_perceptron.py:691: ConvergenceWarning: Stochastic Optimizer: Maximum iterations (10) reached and the optimization hasn't converged yet.\n",
      "  warnings.warn(\n"
     ]
    },
    {
     "name": "stdout",
     "output_type": "stream",
     "text": [
      "[CV] END activation=relu, hidden_layer_sizes=(128,), max_iter=10; total time=   9.0s\n"
     ]
    },
    {
     "name": "stderr",
     "output_type": "stream",
     "text": [
      "/home/yassine-hammi/.local/lib/python3.12/site-packages/sklearn/neural_network/_multilayer_perceptron.py:691: ConvergenceWarning: Stochastic Optimizer: Maximum iterations (10) reached and the optimization hasn't converged yet.\n",
      "  warnings.warn(\n"
     ]
    },
    {
     "name": "stdout",
     "output_type": "stream",
     "text": [
      "[CV] END activation=relu, hidden_layer_sizes=(128,), max_iter=10; total time=   9.0s\n"
     ]
    },
    {
     "name": "stderr",
     "output_type": "stream",
     "text": [
      "/home/yassine-hammi/.local/lib/python3.12/site-packages/sklearn/neural_network/_multilayer_perceptron.py:691: ConvergenceWarning: Stochastic Optimizer: Maximum iterations (50) reached and the optimization hasn't converged yet.\n",
      "  warnings.warn(\n"
     ]
    },
    {
     "name": "stdout",
     "output_type": "stream",
     "text": [
      "[CV] END activation=relu, hidden_layer_sizes=(128,), max_iter=50; total time=  53.9s\n"
     ]
    },
    {
     "name": "stderr",
     "output_type": "stream",
     "text": [
      "/home/yassine-hammi/.local/lib/python3.12/site-packages/sklearn/neural_network/_multilayer_perceptron.py:691: ConvergenceWarning: Stochastic Optimizer: Maximum iterations (50) reached and the optimization hasn't converged yet.\n",
      "  warnings.warn(\n"
     ]
    },
    {
     "name": "stdout",
     "output_type": "stream",
     "text": [
      "[CV] END activation=relu, hidden_layer_sizes=(128,), max_iter=50; total time=  54.8s\n"
     ]
    },
    {
     "name": "stderr",
     "output_type": "stream",
     "text": [
      "/home/yassine-hammi/.local/lib/python3.12/site-packages/sklearn/neural_network/_multilayer_perceptron.py:691: ConvergenceWarning: Stochastic Optimizer: Maximum iterations (50) reached and the optimization hasn't converged yet.\n",
      "  warnings.warn(\n"
     ]
    },
    {
     "name": "stdout",
     "output_type": "stream",
     "text": [
      "[CV] END activation=relu, hidden_layer_sizes=(128,), max_iter=50; total time=  47.3s\n",
      "[CV] END activation=relu, hidden_layer_sizes=(128,), max_iter=100; total time=  46.9s\n",
      "[CV] END activation=relu, hidden_layer_sizes=(128,), max_iter=100; total time=  38.0s\n",
      "[CV] END activation=relu, hidden_layer_sizes=(128,), max_iter=100; total time=  43.7s\n"
     ]
    },
    {
     "name": "stderr",
     "output_type": "stream",
     "text": [
      "/home/yassine-hammi/.local/lib/python3.12/site-packages/sklearn/neural_network/_multilayer_perceptron.py:691: ConvergenceWarning: Stochastic Optimizer: Maximum iterations (10) reached and the optimization hasn't converged yet.\n",
      "  warnings.warn(\n"
     ]
    },
    {
     "name": "stdout",
     "output_type": "stream",
     "text": [
      "[CV] END activation=relu, hidden_layer_sizes=(64, 64), max_iter=10; total time=   5.9s\n"
     ]
    },
    {
     "name": "stderr",
     "output_type": "stream",
     "text": [
      "/home/yassine-hammi/.local/lib/python3.12/site-packages/sklearn/neural_network/_multilayer_perceptron.py:691: ConvergenceWarning: Stochastic Optimizer: Maximum iterations (10) reached and the optimization hasn't converged yet.\n",
      "  warnings.warn(\n"
     ]
    },
    {
     "name": "stdout",
     "output_type": "stream",
     "text": [
      "[CV] END activation=relu, hidden_layer_sizes=(64, 64), max_iter=10; total time=   5.9s\n"
     ]
    },
    {
     "name": "stderr",
     "output_type": "stream",
     "text": [
      "/home/yassine-hammi/.local/lib/python3.12/site-packages/sklearn/neural_network/_multilayer_perceptron.py:691: ConvergenceWarning: Stochastic Optimizer: Maximum iterations (10) reached and the optimization hasn't converged yet.\n",
      "  warnings.warn(\n"
     ]
    },
    {
     "name": "stdout",
     "output_type": "stream",
     "text": [
      "[CV] END activation=relu, hidden_layer_sizes=(64, 64), max_iter=10; total time=   5.8s\n",
      "[CV] END activation=relu, hidden_layer_sizes=(64, 64), max_iter=50; total time=  26.0s\n"
     ]
    },
    {
     "name": "stderr",
     "output_type": "stream",
     "text": [
      "/home/yassine-hammi/.local/lib/python3.12/site-packages/sklearn/neural_network/_multilayer_perceptron.py:691: ConvergenceWarning: Stochastic Optimizer: Maximum iterations (50) reached and the optimization hasn't converged yet.\n",
      "  warnings.warn(\n"
     ]
    },
    {
     "name": "stdout",
     "output_type": "stream",
     "text": [
      "[CV] END activation=relu, hidden_layer_sizes=(64, 64), max_iter=50; total time=  27.2s\n"
     ]
    },
    {
     "name": "stderr",
     "output_type": "stream",
     "text": [
      "/home/yassine-hammi/.local/lib/python3.12/site-packages/sklearn/neural_network/_multilayer_perceptron.py:691: ConvergenceWarning: Stochastic Optimizer: Maximum iterations (50) reached and the optimization hasn't converged yet.\n",
      "  warnings.warn(\n"
     ]
    },
    {
     "name": "stdout",
     "output_type": "stream",
     "text": [
      "[CV] END activation=relu, hidden_layer_sizes=(64, 64), max_iter=50; total time=  28.4s\n",
      "[CV] END activation=relu, hidden_layer_sizes=(64, 64), max_iter=100; total time=  30.1s\n",
      "[CV] END activation=relu, hidden_layer_sizes=(64, 64), max_iter=100; total time=  30.6s\n",
      "[CV] END activation=relu, hidden_layer_sizes=(64, 64), max_iter=100; total time=  27.4s\n"
     ]
    },
    {
     "name": "stderr",
     "output_type": "stream",
     "text": [
      "/home/yassine-hammi/.local/lib/python3.12/site-packages/sklearn/neural_network/_multilayer_perceptron.py:691: ConvergenceWarning: Stochastic Optimizer: Maximum iterations (10) reached and the optimization hasn't converged yet.\n",
      "  warnings.warn(\n"
     ]
    },
    {
     "name": "stdout",
     "output_type": "stream",
     "text": [
      "[CV] END activation=relu, hidden_layer_sizes=(128, 64), max_iter=10; total time=  10.0s\n"
     ]
    },
    {
     "name": "stderr",
     "output_type": "stream",
     "text": [
      "/home/yassine-hammi/.local/lib/python3.12/site-packages/sklearn/neural_network/_multilayer_perceptron.py:691: ConvergenceWarning: Stochastic Optimizer: Maximum iterations (10) reached and the optimization hasn't converged yet.\n",
      "  warnings.warn(\n"
     ]
    },
    {
     "name": "stdout",
     "output_type": "stream",
     "text": [
      "[CV] END activation=relu, hidden_layer_sizes=(128, 64), max_iter=10; total time=  12.3s\n"
     ]
    },
    {
     "name": "stderr",
     "output_type": "stream",
     "text": [
      "/home/yassine-hammi/.local/lib/python3.12/site-packages/sklearn/neural_network/_multilayer_perceptron.py:691: ConvergenceWarning: Stochastic Optimizer: Maximum iterations (10) reached and the optimization hasn't converged yet.\n",
      "  warnings.warn(\n"
     ]
    },
    {
     "name": "stdout",
     "output_type": "stream",
     "text": [
      "[CV] END activation=relu, hidden_layer_sizes=(128, 64), max_iter=10; total time=   8.1s\n",
      "[CV] END activation=relu, hidden_layer_sizes=(128, 64), max_iter=50; total time=  34.1s\n",
      "[CV] END activation=relu, hidden_layer_sizes=(128, 64), max_iter=50; total time=  30.2s\n",
      "[CV] END activation=relu, hidden_layer_sizes=(128, 64), max_iter=50; total time=  28.2s\n",
      "[CV] END activation=relu, hidden_layer_sizes=(128, 64), max_iter=100; total time=  30.3s\n",
      "[CV] END activation=relu, hidden_layer_sizes=(128, 64), max_iter=100; total time=  28.0s\n",
      "[CV] END activation=relu, hidden_layer_sizes=(128, 64), max_iter=100; total time=  33.7s\n",
      "[CV] END activation=Tanh, hidden_layer_sizes=(64,), max_iter=10; total time=   0.1s\n",
      "[CV] END activation=Tanh, hidden_layer_sizes=(64,), max_iter=10; total time=   0.1s\n",
      "[CV] END activation=Tanh, hidden_layer_sizes=(64,), max_iter=10; total time=   0.1s\n",
      "[CV] END activation=Tanh, hidden_layer_sizes=(64,), max_iter=50; total time=   0.1s\n",
      "[CV] END activation=Tanh, hidden_layer_sizes=(64,), max_iter=50; total time=   0.1s\n",
      "[CV] END activation=Tanh, hidden_layer_sizes=(64,), max_iter=50; total time=   0.1s\n",
      "[CV] END activation=Tanh, hidden_layer_sizes=(64,), max_iter=100; total time=   0.1s\n",
      "[CV] END activation=Tanh, hidden_layer_sizes=(64,), max_iter=100; total time=   0.1s\n",
      "[CV] END activation=Tanh, hidden_layer_sizes=(64,), max_iter=100; total time=   0.1s\n",
      "[CV] END activation=Tanh, hidden_layer_sizes=(128,), max_iter=10; total time=   0.1s\n",
      "[CV] END activation=Tanh, hidden_layer_sizes=(128,), max_iter=10; total time=   0.1s\n",
      "[CV] END activation=Tanh, hidden_layer_sizes=(128,), max_iter=10; total time=   0.1s\n",
      "[CV] END activation=Tanh, hidden_layer_sizes=(128,), max_iter=50; total time=   0.1s\n",
      "[CV] END activation=Tanh, hidden_layer_sizes=(128,), max_iter=50; total time=   0.1s\n",
      "[CV] END activation=Tanh, hidden_layer_sizes=(128,), max_iter=50; total time=   0.1s\n",
      "[CV] END activation=Tanh, hidden_layer_sizes=(128,), max_iter=100; total time=   0.1s\n",
      "[CV] END activation=Tanh, hidden_layer_sizes=(128,), max_iter=100; total time=   0.1s\n",
      "[CV] END activation=Tanh, hidden_layer_sizes=(128,), max_iter=100; total time=   0.1s\n",
      "[CV] END activation=Tanh, hidden_layer_sizes=(64, 64), max_iter=10; total time=   0.1s\n",
      "[CV] END activation=Tanh, hidden_layer_sizes=(64, 64), max_iter=10; total time=   0.1s\n",
      "[CV] END activation=Tanh, hidden_layer_sizes=(64, 64), max_iter=10; total time=   0.1s\n",
      "[CV] END activation=Tanh, hidden_layer_sizes=(64, 64), max_iter=50; total time=   0.1s\n",
      "[CV] END activation=Tanh, hidden_layer_sizes=(64, 64), max_iter=50; total time=   0.1s\n",
      "[CV] END activation=Tanh, hidden_layer_sizes=(64, 64), max_iter=50; total time=   0.1s\n",
      "[CV] END activation=Tanh, hidden_layer_sizes=(64, 64), max_iter=100; total time=   0.1s\n",
      "[CV] END activation=Tanh, hidden_layer_sizes=(64, 64), max_iter=100; total time=   0.1s\n",
      "[CV] END activation=Tanh, hidden_layer_sizes=(64, 64), max_iter=100; total time=   0.1s\n",
      "[CV] END activation=Tanh, hidden_layer_sizes=(128, 64), max_iter=10; total time=   0.1s\n",
      "[CV] END activation=Tanh, hidden_layer_sizes=(128, 64), max_iter=10; total time=   0.1s\n",
      "[CV] END activation=Tanh, hidden_layer_sizes=(128, 64), max_iter=10; total time=   0.1s\n",
      "[CV] END activation=Tanh, hidden_layer_sizes=(128, 64), max_iter=50; total time=   0.1s\n",
      "[CV] END activation=Tanh, hidden_layer_sizes=(128, 64), max_iter=50; total time=   0.1s\n",
      "[CV] END activation=Tanh, hidden_layer_sizes=(128, 64), max_iter=50; total time=   0.1s\n",
      "[CV] END activation=Tanh, hidden_layer_sizes=(128, 64), max_iter=100; total time=   0.1s\n",
      "[CV] END activation=Tanh, hidden_layer_sizes=(128, 64), max_iter=100; total time=   0.1s\n",
      "[CV] END activation=Tanh, hidden_layer_sizes=(128, 64), max_iter=100; total time=   0.1s\n"
     ]
    },
    {
     "name": "stderr",
     "output_type": "stream",
     "text": [
      "/home/yassine-hammi/.local/lib/python3.12/site-packages/sklearn/model_selection/_validation.py:528: FitFailedWarning: \n",
      "36 fits failed out of a total of 72.\n",
      "The score on these train-test partitions for these parameters will be set to nan.\n",
      "If these failures are not expected, you can try to debug them by setting error_score='raise'.\n",
      "\n",
      "Below are more details about the failures:\n",
      "--------------------------------------------------------------------------------\n",
      "36 fits failed with the following error:\n",
      "Traceback (most recent call last):\n",
      "  File \"/home/yassine-hammi/.local/lib/python3.12/site-packages/sklearn/model_selection/_validation.py\", line 866, in _fit_and_score\n",
      "    estimator.fit(X_train, y_train, **fit_params)\n",
      "  File \"/home/yassine-hammi/.local/lib/python3.12/site-packages/sklearn/base.py\", line 1382, in wrapper\n",
      "    estimator._validate_params()\n",
      "  File \"/home/yassine-hammi/.local/lib/python3.12/site-packages/sklearn/base.py\", line 436, in _validate_params\n",
      "    validate_parameter_constraints(\n",
      "  File \"/home/yassine-hammi/.local/lib/python3.12/site-packages/sklearn/utils/_param_validation.py\", line 98, in validate_parameter_constraints\n",
      "    raise InvalidParameterError(\n",
      "sklearn.utils._param_validation.InvalidParameterError: The 'activation' parameter of MLPClassifier must be a str among {'logistic', 'relu', 'identity', 'tanh'}. Got 'Tanh' instead.\n",
      "\n",
      "  warnings.warn(some_fits_failed_message, FitFailedWarning)\n",
      "/home/yassine-hammi/.local/lib/python3.12/site-packages/sklearn/model_selection/_search.py:1108: UserWarning: One or more of the test scores are non-finite: [0.96015    0.96823333 0.9691     0.96755    0.97366667 0.97463333\n",
      " 0.96541667 0.97063333 0.96935    0.96988333 0.97433333 0.9737\n",
      "        nan        nan        nan        nan        nan        nan\n",
      "        nan        nan        nan        nan        nan        nan]\n",
      "  warnings.warn(\n"
     ]
    },
    {
     "name": "stdout",
     "output_type": "stream",
     "text": [
      "Best parameters found: {'activation': 'relu', 'hidden_layer_sizes': (128,), 'max_iter': 100}\n"
     ]
    }
   ],
   "source": [
    "from sklearn.model_selection import GridSearchCV\n",
    "from sklearn.metrics import accuracy_score\n",
    "\n",
    "# definir les hyperparameteres  \n",
    "parameters={\n",
    "    'hidden_layer_sizes': [(64,), (128,),(64,64), (128,64)],\n",
    "    'max_iter':[10,50,100],\n",
    "    'activation': [\"relu\", \"Tanh\"]\n",
    "}\n",
    "\n",
    "# execution\n",
    "\"\"\" cv cross validation = 3 ya3ni behs n9asmou training data into 3 parts , kol mara nagzou njarbou zzouz lil training wahda lil validation \n",
    "w zeda el model trained 3 times \n",
    "\"\"\"\n",
    "\n",
    "\"\"\" bel nesba l verbose juste behs youari l output fi west l khedma , 0 yaani no output , 1 minimal output , 2 detailed output ( lil training )\"\"\"\n",
    "\n",
    "\n",
    "grid_mlp = GridSearchCV(mlp_classifier, parameters,cv=3,verbose=2)\n",
    "\n",
    "grid_mlp.fit(X_train_flat,y_train)\n",
    "\n",
    "\n",
    "print(\"Best parameters found:\", grid_mlp.best_params_)\n",
    "\n",
    "\n",
    "\n",
    "\n"
   ]
  },
  {
   "cell_type": "code",
   "execution_count": 24,
   "id": "80057b3e",
   "metadata": {},
   "outputs": [
    {
     "name": "stdout",
     "output_type": "stream",
     "text": [
      "Accuracy on test set: 0.9781\n"
     ]
    }
   ],
   "source": [
    "y_pred = grid_mlp.predict(X_test_flat)\n",
    "print(\"Accuracy on test set:\", accuracy_score(y_test, y_pred))\n"
   ]
  },
  {
   "cell_type": "markdown",
   "id": "97b46e99",
   "metadata": {},
   "source": [
    "Conception du modele ANN avec tensorflow "
   ]
  },
  {
   "cell_type": "code",
   "execution_count": null,
   "id": "a5aadcac",
   "metadata": {},
   "outputs": [],
   "source": []
  },
  {
   "cell_type": "code",
   "execution_count": null,
   "id": "bc853d42",
   "metadata": {},
   "outputs": [
    {
     "name": "stderr",
     "output_type": "stream",
     "text": [
      "/home/yassine-hammi/.local/lib/python3.12/site-packages/keras/src/layers/core/dense.py:87: UserWarning: Do not pass an `input_shape`/`input_dim` argument to a layer. When using Sequential models, prefer using an `Input(shape)` object as the first layer in the model instead.\n",
      "  super().__init__(activity_regularizer=activity_regularizer, **kwargs)\n",
      "2025-04-08 22:15:17.579202: E external/local_xla/xla/stream_executor/cuda/cuda_platform.cc:51] failed call to cuInit: INTERNAL: CUDA error: Failed call to cuInit: UNKNOWN ERROR (303)\n"
     ]
    }
   ],
   "source": [
    "# Définition du model\n",
    "from tensorflow.keras import Sequential \n",
    "from tensorflow.keras.layers import Dense\n",
    "\n",
    "\n",
    "## Dense : Full connected\n",
    "\n",
    "## 128 neurons dans l'entré et 10 en sortie ( mel 0 -> 9 )\n",
    "## fonction relu cha3lina feha tao \n",
    "## fonction softmax besh tkharjelna probabilité mtaa kol wahda fihom shnoa mel 0 -> 9 \n",
    "model = Sequential()\n",
    "model.add(Dense(128,activation=\"relu\",input_shape=(784,)))\n",
    "model.add(Dense(10,activation=\"softmax\"))\n",
    "\n"
   ]
  },
  {
   "cell_type": "code",
   "execution_count": 28,
   "id": "f60db802",
   "metadata": {},
   "outputs": [
    {
     "name": "stdout",
     "output_type": "stream",
     "text": [
      "Epoch 1/5\n",
      "\u001b[1m1500/1500\u001b[0m \u001b[32m━━━━━━━━━━━━━━━━━━━━\u001b[0m\u001b[37m\u001b[0m \u001b[1m4s\u001b[0m 2ms/step - accuracy: 0.8660 - loss: 0.4807 - val_accuracy: 0.9569 - val_loss: 0.1547\n",
      "Epoch 2/5\n",
      "\u001b[1m1500/1500\u001b[0m \u001b[32m━━━━━━━━━━━━━━━━━━━━\u001b[0m\u001b[37m\u001b[0m \u001b[1m3s\u001b[0m 2ms/step - accuracy: 0.9620 - loss: 0.1336 - val_accuracy: 0.9663 - val_loss: 0.1176\n",
      "Epoch 3/5\n",
      "\u001b[1m1500/1500\u001b[0m \u001b[32m━━━━━━━━━━━━━━━━━━━━\u001b[0m\u001b[37m\u001b[0m \u001b[1m3s\u001b[0m 2ms/step - accuracy: 0.9748 - loss: 0.0866 - val_accuracy: 0.9716 - val_loss: 0.0924\n",
      "Epoch 4/5\n",
      "\u001b[1m1500/1500\u001b[0m \u001b[32m━━━━━━━━━━━━━━━━━━━━\u001b[0m\u001b[37m\u001b[0m \u001b[1m3s\u001b[0m 2ms/step - accuracy: 0.9826 - loss: 0.0621 - val_accuracy: 0.9710 - val_loss: 0.0925\n",
      "Epoch 5/5\n",
      "\u001b[1m1500/1500\u001b[0m \u001b[32m━━━━━━━━━━━━━━━━━━━━\u001b[0m\u001b[37m\u001b[0m \u001b[1m3s\u001b[0m 2ms/step - accuracy: 0.9846 - loss: 0.0486 - val_accuracy: 0.9736 - val_loss: 0.0889\n"
     ]
    },
    {
     "data": {
      "text/plain": [
       "<keras.src.callbacks.history.History at 0x75fe172c7860>"
      ]
     },
     "execution_count": 28,
     "metadata": {},
     "output_type": "execute_result"
    }
   ],
   "source": [
    "# ENREGISTREMENT and TRAINING MODEL\n",
    "\n",
    "# compilation du modele \n",
    "model.compile(optimizer=\"adam\",loss=\"sparse_categorical_crossentropy\",metrics=['accuracy'])\n",
    "\n",
    "# Training model \n",
    "\n",
    "model.fit(X_train,y_train,epochs=5,batch_size=32,validation_split=0.2)\n",
    "\n"
   ]
  },
  {
   "cell_type": "code",
   "execution_count": 29,
   "id": "c5bac0ac",
   "metadata": {},
   "outputs": [
    {
     "name": "stdout",
     "output_type": "stream",
     "text": [
      "\u001b[1m313/313\u001b[0m \u001b[32m━━━━━━━━━━━━━━━━━━━━\u001b[0m\u001b[37m\u001b[0m \u001b[1m0s\u001b[0m 1ms/step - accuracy: 0.9702 - loss: 0.0991\n",
      "Test accuracy: 0.9753999710083008\n"
     ]
    }
   ],
   "source": [
    "test_loss, test_accuracy = model.evaluate(X_test, y_test)\n",
    "print(\"Test accuracy:\", test_accuracy)\n"
   ]
  },
  {
   "cell_type": "code",
   "execution_count": 30,
   "id": "b7bd5d0b",
   "metadata": {},
   "outputs": [
    {
     "name": "stdout",
     "output_type": "stream",
     "text": [
      "\u001b[1m313/313\u001b[0m \u001b[32m━━━━━━━━━━━━━━━━━━━━\u001b[0m\u001b[37m\u001b[0m \u001b[1m0s\u001b[0m 777us/step\n"
     ]
    }
   ],
   "source": [
    "predictions = model.predict(X_test)\n"
   ]
  },
  {
   "cell_type": "code",
   "execution_count": 31,
   "id": "fb35a26e",
   "metadata": {},
   "outputs": [
    {
     "name": "stdout",
     "output_type": "stream",
     "text": [
      "Predicted class: 7\n",
      "True class: 7\n"
     ]
    }
   ],
   "source": [
    "import numpy as np\n",
    "print(\"Predicted class:\", np.argmax(predictions[0]))\n",
    "print(\"True class:\", y_test[0])\n"
   ]
  },
  {
   "cell_type": "code",
   "execution_count": 32,
   "id": "30ecc30f",
   "metadata": {},
   "outputs": [
    {
     "data": {
      "image/png": "[encoded data removed]",
      "text/plain": [
       "<Figure size 640x480 with 1 Axes>"
      ]
     },
     "metadata": {},
     "output_type": "display_data"
    }
   ],
   "source": [
    "import matplotlib.pyplot as plt\n",
    "\n",
    "plt.imshow(X_test[0].reshape(28,28), cmap='gray')\n",
    "plt.title(f\"Predicted: {np.argmax(predictions[0])}, Actual: {y_test[0]}\")\n",
    "plt.axis('off')\n",
    "plt.show()\n"
   ]
  },
  {
   "cell_type": "code",
   "execution_count": null,
   "id": "91b013d8",
   "metadata": {},
   "outputs": [
    {
     "name": "stderr",
     "output_type": "stream",
     "text": [
      "WARNING:absl:You are saving your model as an HDF5 file via `model.save()` or `keras.saving.save_model(model)`. This file format is considered legacy. We recommend using instead the native Keras format, e.g. `model.save('my_model.keras')` or `keras.saving.save_model(model, 'my_model.keras')`. \n"
     ]
    }
   ],
   "source": []
  }
 ],
 "metadata": {
  "kernelspec": {
   "display_name": "Python 3",
   "language": "python",
   "name": "python3"
  },
  "language_info": {
   "codemirror_mode": {
    "name": "ipython",
    "version": 3
   },
   "file_extension": ".py",
   "mimetype": "text/x-python",
   "name": "python",
   "nbconvert_exporter": "python",
   "pygments_lexer": "ipython3",
   "version": "3.12.3"
  }
 },
 "nbformat": 4,
 "nbformat_minor": 5
}
